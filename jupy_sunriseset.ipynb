{
 "cells": [
  {
   "cell_type": "code",
   "execution_count": 1,
   "metadata": {},
   "outputs": [],
   "source": [
    "import pandas as pd\n",
    "import sqlite3\n",
    "from dbhelper import getTableSelect\n",
    "from datetime import datetime\n",
    "import matplotlib.pyplot as plt\n",
    "import seaborn as sns\n",
    "import math as mt"
   ]
  },
  {
   "cell_type": "code",
   "execution_count": 2,
   "metadata": {},
   "outputs": [
    {
     "name": "stdout",
     "output_type": "stream",
     "text": [
      "c.cityname = 'Michendorf' OR c.cityname = 'Riga'\n"
     ]
    }
   ],
   "source": [
    "city = ['Michendorf', 'Riga']\n",
    "ct = \"\"\"c.cityname = '\"\"\" + \"\"\"' OR c.cityname = '\"\"\".join(city) + \"\"\"'\"\"\"\n",
    "print(ct)"
   ]
  },
  {
   "cell_type": "code",
   "execution_count": 6,
   "metadata": {},
   "outputs": [
    {
     "name": "stdout",
     "output_type": "stream",
     "text": [
      "SELECT c.cityname as city, w.sur, w.sus, w.ts FROM Cities c\n",
      "INNER JOIN \n",
      "(SELECT DISTINCT round((timestampUNX)/3600/24)*3600*24 as ts, sunrise as sur, sunset as sus, ctyid FROM Wetter) w\n",
      "ON w.ctyid = c.ctyid\n",
      "WHERE c.cityname = 'Michendorf' OR c.cityname = 'Riga' ORDER BY ts\n",
      "Index(['city', 'sur', 'sus', 'ts'], dtype='object')\n"
     ]
    },
    {
     "data": {
      "text/html": [
       "<div>\n",
       "<style scoped>\n",
       "    .dataframe tbody tr th:only-of-type {\n",
       "        vertical-align: middle;\n",
       "    }\n",
       "\n",
       "    .dataframe tbody tr th {\n",
       "        vertical-align: top;\n",
       "    }\n",
       "\n",
       "    .dataframe thead th {\n",
       "        text-align: right;\n",
       "    }\n",
       "</style>\n",
       "<table border=\"1\" class=\"dataframe\">\n",
       "  <thead>\n",
       "    <tr style=\"text-align: right;\">\n",
       "      <th></th>\n",
       "      <th>city</th>\n",
       "      <th>sur</th>\n",
       "      <th>sus</th>\n",
       "      <th>ts</th>\n",
       "    </tr>\n",
       "  </thead>\n",
       "  <tbody>\n",
       "    <tr>\n",
       "      <td>0</td>\n",
       "      <td>Michendorf</td>\n",
       "      <td>1582869483</td>\n",
       "      <td>1582908204</td>\n",
       "      <td>1.582848e+09</td>\n",
       "    </tr>\n",
       "    <tr>\n",
       "      <td>1</td>\n",
       "      <td>Michendorf</td>\n",
       "      <td>1582955750</td>\n",
       "      <td>1582994714</td>\n",
       "      <td>1.582848e+09</td>\n",
       "    </tr>\n",
       "    <tr>\n",
       "      <td>2</td>\n",
       "      <td>Michendorf</td>\n",
       "      <td>1582955750</td>\n",
       "      <td>1582994714</td>\n",
       "      <td>1.582934e+09</td>\n",
       "    </tr>\n",
       "    <tr>\n",
       "      <td>3</td>\n",
       "      <td>Michendorf</td>\n",
       "      <td>1583042017</td>\n",
       "      <td>1583081223</td>\n",
       "      <td>1.582934e+09</td>\n",
       "    </tr>\n",
       "    <tr>\n",
       "      <td>4</td>\n",
       "      <td>Michendorf</td>\n",
       "      <td>1583042017</td>\n",
       "      <td>1583081223</td>\n",
       "      <td>1.583021e+09</td>\n",
       "    </tr>\n",
       "    <tr>\n",
       "      <td>...</td>\n",
       "      <td>...</td>\n",
       "      <td>...</td>\n",
       "      <td>...</td>\n",
       "      <td>...</td>\n",
       "    </tr>\n",
       "    <tr>\n",
       "      <td>1577</td>\n",
       "      <td>Riga</td>\n",
       "      <td>1639032535</td>\n",
       "      <td>1639057400</td>\n",
       "      <td>1.638922e+09</td>\n",
       "    </tr>\n",
       "    <tr>\n",
       "      <td>1578</td>\n",
       "      <td>Michendorf</td>\n",
       "      <td>1639033532</td>\n",
       "      <td>1639061717</td>\n",
       "      <td>1.638922e+09</td>\n",
       "    </tr>\n",
       "    <tr>\n",
       "      <td>1579</td>\n",
       "      <td>Riga</td>\n",
       "      <td>1639032535</td>\n",
       "      <td>1639057400</td>\n",
       "      <td>1.639008e+09</td>\n",
       "    </tr>\n",
       "    <tr>\n",
       "      <td>1580</td>\n",
       "      <td>Michendorf</td>\n",
       "      <td>1639033532</td>\n",
       "      <td>1639061717</td>\n",
       "      <td>1.639008e+09</td>\n",
       "    </tr>\n",
       "    <tr>\n",
       "      <td>1581</td>\n",
       "      <td>Michendorf</td>\n",
       "      <td>1639033532</td>\n",
       "      <td>1639061715</td>\n",
       "      <td>1.639008e+09</td>\n",
       "    </tr>\n",
       "  </tbody>\n",
       "</table>\n",
       "<p>1582 rows × 4 columns</p>\n",
       "</div>"
      ],
      "text/plain": [
       "            city         sur         sus            ts\n",
       "0     Michendorf  1582869483  1582908204  1.582848e+09\n",
       "1     Michendorf  1582955750  1582994714  1.582848e+09\n",
       "2     Michendorf  1582955750  1582994714  1.582934e+09\n",
       "3     Michendorf  1583042017  1583081223  1.582934e+09\n",
       "4     Michendorf  1583042017  1583081223  1.583021e+09\n",
       "...          ...         ...         ...           ...\n",
       "1577        Riga  1639032535  1639057400  1.638922e+09\n",
       "1578  Michendorf  1639033532  1639061717  1.638922e+09\n",
       "1579        Riga  1639032535  1639057400  1.639008e+09\n",
       "1580  Michendorf  1639033532  1639061717  1.639008e+09\n",
       "1581  Michendorf  1639033532  1639061715  1.639008e+09\n",
       "\n",
       "[1582 rows x 4 columns]"
      ]
     },
     "execution_count": 6,
     "metadata": {},
     "output_type": "execute_result"
    }
   ],
   "source": [
    "query = \"\"\"SELECT c.cityname as city, w.sur, w.sus, w.ts FROM Cities c\n",
    "INNER JOIN \n",
    "(SELECT DISTINCT round((timestampUNX)/3600/24)*3600*24 as ts, sunrise as sur, sunset as sus, ctyid FROM Wetter) w\n",
    "ON w.ctyid = c.ctyid\n",
    "WHERE {} ORDER BY ts\"\"\".format(ct)\n",
    "print(query)\n",
    "data = pd.read_sql_query(query,sqlite3.connect('wetter.db'))\n",
    "print(data.columns)\n",
    "data"
   ]
  },
  {
   "cell_type": "code",
   "execution_count": 7,
   "metadata": {},
   "outputs": [
    {
     "name": "stdout",
     "output_type": "stream",
     "text": [
      "            city         sur         sus            ts    sur_dt     sus_dt  \\\n",
      "0     Michendorf  1582869483  1582908204  1.582848e+09  5.966667  16.716667   \n",
      "1     Michendorf  1582955750  1582994714  1.582848e+09  5.916667  16.750000   \n",
      "2     Michendorf  1582955750  1582994714  1.582934e+09  5.916667  16.750000   \n",
      "3     Michendorf  1583042017  1583081223  1.582934e+09  5.883333  16.783333   \n",
      "4     Michendorf  1583042017  1583081223  1.583021e+09  5.883333  16.783333   \n",
      "...          ...         ...         ...           ...       ...        ...   \n",
      "1577        Riga  1639032535  1639057400  1.638922e+09  6.800000  13.716667   \n",
      "1578  Michendorf  1639033532  1639061717  1.638922e+09  7.083333  14.916667   \n",
      "1579        Riga  1639032535  1639057400  1.639008e+09  6.800000  13.716667   \n",
      "1580  Michendorf  1639033532  1639061717  1.639008e+09  7.083333  14.916667   \n",
      "1581  Michendorf  1639033532  1639061715  1.639008e+09  7.083333  14.916667   \n",
      "\n",
      "          ts_dt ts_year  \n",
      "0    2020-02-28    2020  \n",
      "1    2020-02-28    2020  \n",
      "2    2020-02-29    2020  \n",
      "3    2020-02-29    2020  \n",
      "4    2020-03-01    2020  \n",
      "...         ...     ...  \n",
      "1577 2021-12-08    2021  \n",
      "1578 2021-12-08    2021  \n",
      "1579 2021-12-09    2021  \n",
      "1580 2021-12-09    2021  \n",
      "1581 2021-12-09    2021  \n",
      "\n",
      "[1582 rows x 8 columns]\n"
     ]
    }
   ],
   "source": [
    "data['sur_dt'] = data.apply(lambda x : (int(datetime.utcfromtimestamp(x['sur']).strftime('%H'))+int(datetime.utcfromtimestamp(x['sur']).strftime('%M'))/60), axis=1)\n",
    "data['sus_dt'] = data.apply(lambda x : int(datetime.utcfromtimestamp(x['sus']).strftime('%H'))+int(datetime.utcfromtimestamp(x['sus']).strftime('%M'))/60, axis=1)\n",
    "data['ts_dt'] = data.apply(lambda x : datetime.utcfromtimestamp(x['ts']), axis=1)\n",
    "data['ts_year'] = data.apply(lambda x : (datetime.utcfromtimestamp(x['ts']).strftime('%Y')), axis=1)\n",
    "\n",
    "print(data)"
   ]
  },
  {
   "cell_type": "code",
   "execution_count": 35,
   "metadata": {},
   "outputs": [
    {
     "name": "stdout",
     "output_type": "stream",
     "text": [
      "[           city         sur         sus            ts    sur_dt     sus_dt  \\\n",
      "311  Michendorf  1609489053  1609517106  1.609459e+09  8.283333  16.083333   \n",
      "312  Michendorf  1609575443  1609603571  1.609546e+09  8.283333  16.100000   \n",
      "313  Michendorf  1609661829  1609690038  1.609632e+09  8.283333  16.116667   \n",
      "314  Michendorf  1609748213  1609776508  1.609718e+09  8.266667  16.133333   \n",
      "315  Michendorf  1609834592  1609862981  1.609805e+09  8.266667  16.150000   \n",
      "..          ...         ...         ...           ...       ...        ...   \n",
      "822  Michendorf  1638691243  1638719803  1.638662e+09  8.000000  15.933333   \n",
      "825  Michendorf  1638777719  1638806176  1.638749e+09  8.016667  15.933333   \n",
      "827  Michendorf  1638864192  1638892553  1.638835e+09  8.050000  15.916667   \n",
      "829  Michendorf  1638950664  1638978933  1.638922e+09  8.066667  15.916667   \n",
      "832  Michendorf  1639037132  1639065317  1.639008e+09  8.083333  15.916667   \n",
      "\n",
      "         ts_dt ts_year  day_abs  sur_dt_diff  \n",
      "311 2021-01-01    2021    18628          NaN  \n",
      "312 2021-01-02    2021    18629     0.000000  \n",
      "313 2021-01-03    2021    18630     0.000000  \n",
      "314 2021-01-04    2021    18631    -0.016667  \n",
      "315 2021-01-05    2021    18632     0.000000  \n",
      "..         ...     ...      ...          ...  \n",
      "822 2021-12-05    2021    18966     0.016667  \n",
      "825 2021-12-06    2021    18967     0.016667  \n",
      "827 2021-12-07    2021    18968     0.033333  \n",
      "829 2021-12-08    2021    18969     0.016667  \n",
      "832 2021-12-09    2021    18970     0.016667  \n",
      "\n",
      "[335 rows x 10 columns]]\n"
     ]
    },
    {
     "name": "stderr",
     "output_type": "stream",
     "text": [
      "C:\\Users\\pkr\\AppData\\Roaming\\Python\\Python36\\site-packages\\ipykernel_launcher.py:7: FutureWarning: Currently, 'apply' passes the values as ndarrays to the applied function. In the future, this will change to passing it as Series objects. You need to specify 'raw=True' to keep the current behaviour, and you can pass 'raw=False' to silence this warning\n",
      "  import sys\n"
     ]
    }
   ],
   "source": [
    "\n",
    "dta = []\n",
    "for cty in [city[0]]:\n",
    "    dta_temp = data[(data[\"city\"] ==cty) & (data['ts_year'] == '2021')]#.set_index('ts_dt')\n",
    "    dta_temp = dta_temp.drop_duplicates(subset=['ts_dt'])\n",
    "    #dta_temp = dta_temp.interpolate()\n",
    "    dta_temp['day_abs'] = dta_temp['ts'].apply(lambda x: mt.floor(x/3600.0/24.0) )\n",
    "    dta_temp['sur_dt_diff'] = dta_temp['sur_dt'].rolling(window=2).apply(lambda x: (x[1] - x[0] ))\n",
    "    #dta_temp['sur_dt_diff'] = dta_temp['sur'].rolling(window=2).apply(lambda x: max (-3,min(3, (x[1] - x[0])/60.0 )) )\n",
    "    #dta_temp['sur_dt_diff'] = dta_temp['sur'].rolling(window=3).apply(lambda x: (x[1] - x[0] + x[2] - x[1])/2/3600-24)\n",
    "    #dta_temp['sus_dt_diff'] = dta_temp['sus'].rolling(window=3).apply(lambda x: (x[1] - x[0] + x[2] - x[1])/2/3600-24)\n",
    "    dta.append(dta_temp)\n",
    "\n",
    "\n",
    "\n",
    "print(dta)"
   ]
  },
  {
   "cell_type": "code",
   "execution_count": 36,
   "metadata": {},
   "outputs": [
    {
     "data": {
      "image/png": "[encoded data removed]",
      "text/plain": [
       "<Figure size 432x288 with 2 Axes>"
      ]
     },
     "metadata": {
      "needs_background": "light"
     },
     "output_type": "display_data"
    }
   ],
   "source": [
    "#%%\n",
    "clrs = ['tab:blue','tab:orange','tab:green','tab:red','tab:purple']\n",
    "clr_idx = 0\n",
    "plt.figure(1)\n",
    "plt.subplot(1,2,1)\n",
    "for _dta in dta:\n",
    "    cty = _dta.iloc[0]['city']\n",
    "    plt.plot(_dta['ts_dt'],_dta['sur_dt'],\n",
    "        clrs[clr_idx], label=cty)\n",
    "    plt.plot(_dta['ts_dt'],_dta['sus_dt'],\n",
    "        clrs[clr_idx], label='')\n",
    "    clr_idx = clr_idx + 1\n",
    "plt.legend()\n",
    "plt.grid(True)\n",
    "plt.ylim([0,24])\n",
    "plt.yticks([i*2 for i in range(13)])\n",
    "\n",
    "clr_idx = 0\n",
    "plt.subplot(1,2,2)\n",
    "for _dta in [dta[0]]:\n",
    "    cty = _dta.iloc[0]['city']\n",
    "    plt.plot(_dta['ts_dt'],_dta['sur_dt_diff'],\n",
    "        clrs[clr_idx], label=cty)\n",
    "    #plt.plot(_dta['ts_dt'],_dta['sus_dt_diff'],\n",
    "    #    clrs[clr_idx], label='')\n",
    "    clr_idx = clr_idx + 1\n",
    "plt.legend()\n",
    "plt.grid(True)\n",
    "plt.show()\n"
   ]
  }
 ],
 "metadata": {
  "interpreter": {
   "hash": "e520943e7566dc84a3da0c1f8865936cdec72b5198b6e28951675a4c197af658"
  },
  "kernelspec": {
   "display_name": "Python 3.6.4 32-bit",
   "name": "python3"
  },
  "language_info": {
   "codemirror_mode": {
    "name": "ipython",
    "version": 3
   },
   "file_extension": ".py",
   "mimetype": "text/x-python",
   "name": "python",
   "nbconvert_exporter": "python",
   "pygments_lexer": "ipython3",
   "version": "3.6.4"
  },
  "orig_nbformat": 4
 },
 "nbformat": 4,
 "nbformat_minor": 2
}
