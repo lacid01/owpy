{
 "cells": [
  {
   "cell_type": "code",
   "execution_count": null,
   "metadata": {},
   "outputs": [],
   "source": [
    "# https://sunrise-sunset.org/\r\n",
    "\r\n",
    "\r\n",
    "import urllib.request"
   ]
  }
 ],
 "metadata": {
  "interpreter": {
   "hash": "e520943e7566dc84a3da0c1f8865936cdec72b5198b6e28951675a4c197af658"
  },
  "kernelspec": {
   "display_name": "Python 3.6.4 32-bit",
   "name": "python3"
  },
  "language_info": {
   "name": "python",
   "version": ""
  },
  "orig_nbformat": 4
 },
 "nbformat": 4,
 "nbformat_minor": 2
}