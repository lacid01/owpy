{
 "cells": [
  {
   "cell_type": "code",
   "execution_count": 1,
   "metadata": {},
   "outputs": [],
   "source": [
    "import dbhelper as db"
   ]
  },
  {
   "cell_type": "code",
   "execution_count": 2,
   "metadata": {},
   "outputs": [
    {
     "name": "stdout",
     "output_type": "stream",
     "text": [
      "               cityname                                            request\n",
      "ctyid                                                                     \n",
      "1            Schöneberg  http://api.openweathermap.org/data/2.5/weather...\n",
      "2              Nordborg  http://api.openweathermap.org/data/2.5/weather...\n",
      "3                  Oslo  http://api.openweathermap.org/data/2.5/weather...\n",
      "4             Antwerpen  http://api.openweathermap.org/data/2.5/weather...\n",
      "5             Stockholm  http://api.openweathermap.org/data/2.5/weather...\n",
      "...                 ...                                                ...\n",
      "79     Kolympia, Rhodos  http://api.openweathermap.org/data/2.5/weather...\n",
      "80               Kavala  http://api.openweathermap.org/data/2.5/weather...\n",
      "81                 Riga  http://api.openweathermap.org/data/2.5/weather...\n",
      "82         Longyearbyen  http://api.openweathermap.org/data/2.5/weather...\n",
      "83           Warnemünde  http://api.openweathermap.org/data/2.5/weather...\n",
      "\n",
      "[81 rows x 2 columns]\n"
     ]
    }
   ],
   "source": [
    "print(db.getCitiesDataFrame()[['cityname','request']])\n",
    "a = db.getCitiesDataFrame()"
   ]
  },
  {
   "cell_type": "code",
   "execution_count": 2,
   "metadata": {},
   "outputs": [
    {
     "name": "stdout",
     "output_type": "stream",
     "text": [
      "Successfully Connected to SQLite\n",
      "Record inserted successfully into Cities table  1\n",
      "done...\n"
     ]
    }
   ],
   "source": [
    "#db.addCity('Warnemünde',54.158991,12.096921,'True')"
   ]
  },
  {
   "cell_type": "code",
   "execution_count": 5,
   "metadata": {},
   "outputs": [
    {
     "name": "stdout",
     "output_type": "stream",
     "text": [
      "      wetterid country          city  timestampUNX     sunrise      sunset  \\\n",
      "0      3117341      LT       Vilnius    1627722385  1627698450  1627755776   \n",
      "1      3904832      SJ  Longyearbyen    1634710313  1634717867  1634735200   \n",
      "2      3904910      SJ  Longyearbyen    1634710934  1634717867  1634735200   \n",
      "3      3904990      SJ  Longyearbyen    1634711666  1634717867  1634735200   \n",
      "4      3905070      SJ  Longyearbyen    1634712396  1634717867  1634735200   \n",
      "...        ...     ...           ...           ...         ...         ...   \n",
      "2889   4137390      SJ  Longyearbyen    1637160232           0           0   \n",
      "2890   4137470      SJ  Longyearbyen    1637160881           0           0   \n",
      "2891   4137550      SJ  Longyearbyen    1637161538           0           0   \n",
      "2892   4137630      SJ  Longyearbyen    1637162198           0           0   \n",
      "2893   4137707      SJ  Longyearbyen    1637162884           0           0   \n",
      "\n",
      "      descrid  temperature  temperaturemin  temperaturemax  ...  pressure  \\\n",
      "0         800        22.61           22.44           23.51  ...      1006   \n",
      "1         801       -10.86          -10.86          -10.86  ...      1015   \n",
      "2         801       -10.86          -10.86          -10.86  ...      1015   \n",
      "3         802       -10.86          -10.86          -10.86  ...      1015   \n",
      "4         802       -10.86          -10.86          -10.86  ...      1015   \n",
      "...       ...          ...             ...             ...  ...       ...   \n",
      "2889      803        -3.86           -3.86           -3.86  ...      1005   \n",
      "2890      600        -3.86           -3.86           -3.86  ...      1006   \n",
      "2891      600        -3.86           -3.86           -3.86  ...      1006   \n",
      "2892      600        -3.86           -3.86           -3.86  ...      1006   \n",
      "2893      803        -3.86           -3.86           -3.86  ...      1006   \n",
      "\n",
      "      windspeed  winddeg  windgust  cloudiness  rain1h  snow1h  snow3h  \\\n",
      "0          6.69      250       NaN           0     NaN     NaN    None   \n",
      "1          5.66      120       NaN          20     NaN     NaN    None   \n",
      "2          5.66      120       NaN          20     NaN     NaN    None   \n",
      "3          5.14      110       NaN          40     NaN     NaN    None   \n",
      "4          5.14      110       NaN          40     NaN     NaN    None   \n",
      "...         ...      ...       ...         ...     ...     ...     ...   \n",
      "2889      14.92      120     21.09          75     NaN     NaN    None   \n",
      "2890      14.40      130     20.06          75     NaN     NaN    None   \n",
      "2891      14.40      130     20.06          75     NaN     NaN    None   \n",
      "2892      14.40      130     20.06          75     NaN     NaN    None   \n",
      "2893      15.95      120       NaN          75     NaN     NaN    None   \n",
      "\n",
      "      timezone ctyid  \n",
      "0            3    82  \n",
      "1            2    82  \n",
      "2            2    82  \n",
      "3            2    82  \n",
      "4            2    82  \n",
      "...        ...   ...  \n",
      "2889         1    82  \n",
      "2890         1    82  \n",
      "2891         1    82  \n",
      "2892         1    82  \n",
      "2893         1    82  \n",
      "\n",
      "[2894 rows x 22 columns]\n",
      "      wetterid country          city  timestampUNX     sunrise      sunset  \\\n",
      "0      3904832      SJ  Longyearbyen    1634710313  1634717867  1634735200   \n",
      "1      3904910      SJ  Longyearbyen    1634710934  1634717867  1634735200   \n",
      "2      3904990      SJ  Longyearbyen    1634711666  1634717867  1634735200   \n",
      "3      3905070      SJ  Longyearbyen    1634712396  1634717867  1634735200   \n",
      "4      3905153      SJ  Longyearbyen    1634713127  1634717867  1634735200   \n",
      "...        ...     ...           ...           ...         ...         ...   \n",
      "2888   4137390      SJ  Longyearbyen    1637160232           0           0   \n",
      "2889   4137470      SJ  Longyearbyen    1637160881           0           0   \n",
      "2890   4137550      SJ  Longyearbyen    1637161538           0           0   \n",
      "2891   4137630      SJ  Longyearbyen    1637162198           0           0   \n",
      "2892   4137707      SJ  Longyearbyen    1637162884           0           0   \n",
      "\n",
      "      descrid  temperature  temperaturemin  temperaturemax  ...  pressure  \\\n",
      "0         801       -10.86          -10.86          -10.86  ...      1015   \n",
      "1         801       -10.86          -10.86          -10.86  ...      1015   \n",
      "2         802       -10.86          -10.86          -10.86  ...      1015   \n",
      "3         802       -10.86          -10.86          -10.86  ...      1015   \n",
      "4         802       -10.86          -10.86          -10.86  ...      1015   \n",
      "...       ...          ...             ...             ...  ...       ...   \n",
      "2888      803        -3.86           -3.86           -3.86  ...      1005   \n",
      "2889      600        -3.86           -3.86           -3.86  ...      1006   \n",
      "2890      600        -3.86           -3.86           -3.86  ...      1006   \n",
      "2891      600        -3.86           -3.86           -3.86  ...      1006   \n",
      "2892      803        -3.86           -3.86           -3.86  ...      1006   \n",
      "\n",
      "      windspeed  winddeg  windgust  cloudiness  rain1h  snow1h  snow3h  \\\n",
      "0          5.66      120       NaN          20     NaN     NaN    None   \n",
      "1          5.66      120       NaN          20     NaN     NaN    None   \n",
      "2          5.14      110       NaN          40     NaN     NaN    None   \n",
      "3          5.14      110       NaN          40     NaN     NaN    None   \n",
      "4          6.17      110       NaN          40     NaN     NaN    None   \n",
      "...         ...      ...       ...         ...     ...     ...     ...   \n",
      "2888      14.92      120     21.09          75     NaN     NaN    None   \n",
      "2889      14.40      130     20.06          75     NaN     NaN    None   \n",
      "2890      14.40      130     20.06          75     NaN     NaN    None   \n",
      "2891      14.40      130     20.06          75     NaN     NaN    None   \n",
      "2892      15.95      120       NaN          75     NaN     NaN    None   \n",
      "\n",
      "      timezone ctyid  \n",
      "0            2    82  \n",
      "1            2    82  \n",
      "2            2    82  \n",
      "3            2    82  \n",
      "4            2    82  \n",
      "...        ...   ...  \n",
      "2888         1    82  \n",
      "2889         1    82  \n",
      "2890         1    82  \n",
      "2891         1    82  \n",
      "2892         1    82  \n",
      "\n",
      "[2893 rows x 22 columns]\n"
     ]
    }
   ],
   "source": [
    "import sqlite3\n",
    "import pandas as pd\n",
    "query = '''SELECT * FROM Wetter WHERE ctyid = 82'''\n",
    "sqldata = pd.read_sql_query(query,sqlite3.connect('wetter.db'))\n",
    "print(sqldata)\n",
    "\n",
    "queryDEL = '''DELETE FROM Wetter WHERE wetterid = 3117341'''\n",
    "db.execCom(queryDEL)\n",
    "\n",
    "sqldata = pd.read_sql_query(query,sqlite3.connect('wetter.db'))\n",
    "print(sqldata)\n"
   ]
  }
 ],
 "metadata": {
  "interpreter": {
   "hash": "e520943e7566dc84a3da0c1f8865936cdec72b5198b6e28951675a4c197af658"
  },
  "kernelspec": {
   "display_name": "Python 3.6.4 32-bit",
   "name": "python3"
  },
  "language_info": {
   "codemirror_mode": {
    "name": "ipython",
    "version": 3
   },
   "file_extension": ".py",
   "mimetype": "text/x-python",
   "name": "python",
   "nbconvert_exporter": "python",
   "pygments_lexer": "ipython3",
   "version": "3.6.4"
  },
  "orig_nbformat": 4
 },
 "nbformat": 4,
 "nbformat_minor": 2
}
