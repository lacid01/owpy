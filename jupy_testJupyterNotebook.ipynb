{
 "cells": [
  {
   "cell_type": "code",
   "execution_count": 1,
   "metadata": {},
   "outputs": [],
   "source": [
    "import pandas as pd\r\n",
    "import sqlite3\r\n",
    "from dbhelper import getTableSelect\r\n",
    "import datetime as dt\r\n",
    "import matplotlib.pyplot as plt\r\n",
    "import seaborn as sns"
   ]
  },
  {
   "cell_type": "code",
   "execution_count": 13,
   "metadata": {},
   "outputs": [
    {
     "name": "stdout",
     "output_type": "stream",
     "text": [
      "Starte db-Abfrage...\n",
      "                       city  minimum  maximum\n",
      "0                 Reykjavik   -10.84    19.86\n",
      "1                  Svolvaer     7.44    21.10\n",
      "2                    Myrdal   -22.27    24.39\n",
      "3                    Bergen    -9.63    25.83\n",
      "4                St. John's     6.24    26.43\n",
      "..                      ...      ...      ...\n",
      "71                  Seattle    -4.04    41.67\n",
      "72   Quillayute Airport-UIL     1.02    42.02\n",
      "73    Alice Springs Airport    -2.01    43.58\n",
      "74  Isabella Landing, Idaho   -24.00    43.91\n",
      "75                 Portland    -5.19    45.60\n",
      "\n",
      "[76 rows x 3 columns]\n",
      "\n"
     ]
    }
   ],
   "source": [
    "city = 'Michendorf'\r\n",
    "# Michendorf\r\n",
    "# Vuollerim (SE) - Edefors\r\n",
    "# Grundtjärn\r\n",
    "\r\n",
    "query = \"\"\"SELECT c.cityname as city,MIN(w.temperature) minimum, MAX(w.temperature) maximum FROM Cities c\r\n",
    "INNER JOIN \r\n",
    "(SELECT timestampUNX+timezone*3600 as ts, temperature, ctyid  FROM Wetter) w\r\n",
    "ON w.ctyid = c.ctyid\r\n",
    "GROUP BY c.ctyid\r\n",
    "Order by MAX(w.temperature)\"\"\"\r\n",
    "print('Starte db-Abfrage...')\r\n",
    "data = pd.read_sql_query(query,sqlite3.connect('wetter.db'))\r\n",
    "\r\n",
    "print(data)\r\n",
    "print()"
   ]
  },
  {
   "cell_type": "code",
   "execution_count": null,
   "metadata": {},
   "outputs": [],
   "source": [
    "plt.figure()\r\n",
    "plt.plot(data[\"city\"],data[\"minimum\"],'.')\r\n",
    "plt.plot(data[\"city\"],data[\"maximum\"],'.')\r\n",
    "plt.grid()\r\n",
    "plt.show()"
   ]
  },
  {
   "cell_type": "code",
   "execution_count": 31,
   "metadata": {},
   "outputs": [
    {
     "name": "stdout",
     "output_type": "stream",
     "text": [
      "[{'label': 'Schöneberg', 'value': 1}, {'label': 'Nordborg', 'value': 2}, {'label': 'Oslo', 'value': 3}, {'label': 'Antwerpen', 'value': 4}, {'label': 'Stockholm', 'value': 5}, {'label': 'Wyk auf Föhr', 'value': 6}, {'label': 'Sonderburg', 'value': 7}, {'label': 'Seattle', 'value': 8}, {'label': 'Basslake', 'value': 9}, {'label': 'Bad Belzig', 'value': 10}, {'label': 'Lutherstadt Wittenberg', 'value': 11}, {'label': 'Boek', 'value': 12}, {'label': 'Ostrov / Eiland', 'value': 13}, {'label': 'Burlington', 'value': 14}, {'label': 'Tupper Lake', 'value': 15}, {'label': 'Toronto', 'value': 16}, {'label': 'Oyten', 'value': 17}, {'label': 'Hamburg', 'value': 18}, {'label': 'Bijela', 'value': 19}, {'label': 'Nizza', 'value': 20}, {'label': 'Dover', 'value': 21}, {'label': 'Palau', 'value': 22}, {'label': 'Brest', 'value': 23}, {'label': 'Nyborg', 'value': 24}, {'label': 'Tromsö', 'value': 25}, {'label': 'Umea', 'value': 26}, {'label': 'Reykjavik', 'value': 27}, {'label': 'Portland', 'value': 28}, {'label': 'Plymouth', 'value': 29}, {'label': 'Michendorf', 'value': 30}, {'label': 'Brandenburg a.d. Havel', 'value': 31}, {'label': 'Moscow', 'value': 32}, {'label': 'Eagle, Colorado', 'value': 33}, {'label': 'Naples, FL', 'value': 34}, {'label': 'Houston, Texas', 'value': 35}, {'label': 'Dallas, Texas', 'value': 36}, {'label': 'Tulsa, Oklahoma', 'value': 37}, {'label': 'Isabella Landing, Idaho', 'value': 38}, {'label': 'Aitape', 'value': 39}, {'label': 'Wewak', 'value': 40}, {'label': 'Goroka', 'value': 41}, {'label': 'Wallis und Futuna', 'value': 42}, {'label': 'Papeete, Frz. Poly.', 'value': 43}, {'label': 'Auckland', 'value': 44}, {'label': 'Queenstown', 'value': 45}, {'label': 'Rotorua', 'value': 46}, {'label': 'Alice Springs Airport', 'value': 47}, {'label': 'Patong Beach', 'value': 48}, {'label': 'Almaty Airport', 'value': 49}, {'label': 'Anchorage Airport', 'value': 50}, {'label': 'Victoria Airport, Seychellen', 'value': 51}, {'label': 'Flam', 'value': 52}, {'label': 'Voss', 'value': 53}, {'label': 'Myrdal', 'value': 54}, {'label': 'Al', 'value': 55}, {'label': 'Bergen', 'value': 56}, {'label': 'Helsinki', 'value': 58}, {'label': 'Vuollerim', 'value': 59}, {'label': 'Tallinn', 'value': 60}, {'label': 'Vilnius', 'value': 61}, {'label': 'Grundtjärn', 'value': 62}, {'label': 'Inari', 'value': 63}, {'label': 'Beelitz', 'value': 64}, {'label': 'Kamionki Eulengebirge', 'value': 66}, {'label': 'Leipzig', 'value': 67}, {'label': 'München Aubing', 'value': 68}, {'label': 'Prien am Chiemsee', 'value': 69}, {'label': 'Augusta Portland', 'value': 70}, {'label': 'Quillayute Airport-UIL', 'value': 71}, {'label': 'Lübbenau, Spreewald', 'value': 72}, {'label': 'Tokyo', 'value': 73}, {'label': 'Semboku', 'value': 74}, {'label': 'Svolvaer', 'value': 75}, {'label': \"St. John's\", 'value': 76}, {'label': 'Kasan', 'value': 77}, {'label': 'Mariehamn', 'value': 78}, {'label': 'Kolympia, Rhodos', 'value': 79}, {'label': 'Kavala', 'value': 80}, {'label': 'Riga', 'value': 81}, {'label': 'Longyearbyen', 'value': 82}]\n",
      "<class 'list'>\n",
      "<class 'dict'>\n"
     ]
    }
   ],
   "source": [
    "\r\n",
    "query = \"SELECT cityname as label, ctyid as value FROM Cities WHERE active = 1\"\r\n",
    "data = pd.read_sql_query(query,sqlite3.connect('wetter.db'))\r\n",
    "data['dict'] = data.apply( lambda x: { 'label': x['label'] , 'value': x['value'] }, axis = 1)\r\n",
    "arr = [b[2] for a,b in data.iterrows()]\r\n",
    "print(arr)\r\n",
    "print(type(arr))\r\n",
    "print(type(arr[0]))"
   ]
  },
  {
   "cell_type": "code",
   "execution_count": 33,
   "metadata": {},
   "outputs": [
    {
     "name": "stdout",
     "output_type": "stream",
     "text": [
      "5\n",
      "6\n"
     ]
    }
   ],
   "source": [
    "a,b = [5,6]\r\n",
    "print(a)\r\n",
    "print(b)"
   ]
  }
 ],
 "metadata": {
  "interpreter": {
   "hash": "e520943e7566dc84a3da0c1f8865936cdec72b5198b6e28951675a4c197af658"
  },
  "kernelspec": {
   "display_name": "Python 3.6.4 32-bit",
   "name": "python3"
  },
  "language_info": {
   "codemirror_mode": {
    "name": "ipython",
    "version": 3
   },
   "file_extension": ".py",
   "mimetype": "text/x-python",
   "name": "python",
   "nbconvert_exporter": "python",
   "pygments_lexer": "ipython3",
   "version": "3.6.4"
  },
  "orig_nbformat": 4
 },
 "nbformat": 4,
 "nbformat_minor": 2
}