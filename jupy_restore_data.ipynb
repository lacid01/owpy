{
 "cells": [
  {
   "cell_type": "code",
   "execution_count": 1,
   "metadata": {},
   "outputs": [],
   "source": [
    "import pandas as pd\r\n",
    "import sqlite3\r\n",
    "from dbhelper import getTableSelect\r\n",
    "import datetime as dt\r\n",
    "import matplotlib.pyplot as plt\r\n",
    "import seaborn as sns"
   ]
  },
  {
   "cell_type": "code",
   "execution_count": 30,
   "metadata": {},
   "outputs": [],
   "source": [
    "tfrom = (dt.datetime(2021,10,22,10,0,0) - dt.datetime(1970, 1, 1)).total_seconds()\r\n",
    "tto = (dt.datetime(2021,11,2,8,45,0) - dt.datetime(1970, 1, 1)).total_seconds()\r\n",
    "req = \"SELECT * FROM Wetter WHERE timestampUNX > {} AND timestampUNX < {}\".format(tfrom,tto)\r\n",
    "df = pd.read_sql_query(req,sqlite3.connect('wetter_kaputt.db'))\r\n",
    "df = df.drop(['wetterid'],axis=1)"
   ]
  },
  {
   "cell_type": "code",
   "execution_count": 31,
   "metadata": {},
   "outputs": [],
   "source": [
    "df.to_sql('Wetter', sqlite3.connect('wetterA.db'),if_exists='append', index=False)"
   ]
  }
 ],
 "metadata": {
  "interpreter": {
   "hash": "e520943e7566dc84a3da0c1f8865936cdec72b5198b6e28951675a4c197af658"
  },
  "kernelspec": {
   "display_name": "Python 3.6.4 32-bit",
   "name": "python3"
  },
  "language_info": {
   "codemirror_mode": {
    "name": "ipython",
    "version": 3
   },
   "file_extension": ".py",
   "mimetype": "text/x-python",
   "name": "python",
   "nbconvert_exporter": "python",
   "pygments_lexer": "ipython3",
   "version": "3.6.4"
  },
  "orig_nbformat": 4
 },
 "nbformat": 4,
 "nbformat_minor": 2
}