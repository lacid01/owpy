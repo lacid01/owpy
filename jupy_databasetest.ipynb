{
 "cells": [
  {
   "cell_type": "code",
   "execution_count": 1,
   "metadata": {},
   "outputs": [],
   "source": [
    "import dbhelper as db\r\n",
    "import pandas as pd"
   ]
  },
  {
   "cell_type": "code",
   "execution_count": 2,
   "metadata": {},
   "outputs": [
    {
     "name": "stdout",
     "output_type": "stream",
     "text": [
      "('True', 'Vilnius', 61)\n"
     ]
    }
   ],
   "source": [
    "#db.showCitiesRAW()\r\n",
    "query = \"SELECT zeigeinvisu, cityname FROM Cities WHERE ctyid = {};\".format(7)\r\n",
    "db.execComFK(query)[0]\r\n",
    "#db.ShowInVisuSwitch(39)\r\n",
    "#db.addCity(\"Vilnius\",54.683846,25.271075,'True')\r\n",
    "#db.deleteCityById(82)\r\n",
    "\r\n",
    "query = \"SELECT zeigeinvisu, cityname, ctyid FROM Cities WHERE cityname = 'Vilnius';\"\r\n",
    "cts = db.execComFK(query)\r\n",
    "a = [print(i) for i in cts]"
   ]
  },
  {
   "cell_type": "code",
   "execution_count": 3,
   "metadata": {},
   "outputs": [
    {
     "name": "stdout",
     "output_type": "stream",
     "text": [
      "CREATE TABLE conditioncode (\n",
      "    condid INTEGER PRIMARY KEY,\n",
      "    condition TEXT,\n",
      "    descr TEXT\n",
      ")\n",
      "\n",
      "CREATE TABLE Himmelsrichtung (\n",
      "    richtungsid INTEGER PRIMARY KEY,\n",
      "    bezeichnerkurz TEXT, \n",
      "    bezeichnerlang TEXT\n",
      ")\n",
      "\n",
      "CREATE TABLE databasesettings (key TEXT NOT NULL, value INTEGER NOT NULL)\n",
      "\n",
      "CREATE TABLE log \n",
      "(\n",
      "    Timestamp TEXT, \n",
      "    Level TEXT,\n",
      "    Message TEXT\n",
      ")\n",
      "\n",
      "CREATE TABLE Laendercodes (\n",
      "    id INTEGER PRIMARY KEY,\n",
      "    Land TEXT NOT NULL, \n",
      "    ISO3166_alpha2 TEXT NOT NULL, \n",
      "    ISO3166_alpha3  TEXT,\n",
      "    ISO3166_numerisch  TEXT NOT NULL, \n",
      "    IOC  TEXT, \n",
      "    Fips10 TEXT, \n",
      "    Kfz_Kennzeichen TEXT, \n",
      "    Domain TEXT\n",
      ")\n",
      "\n",
      "CREATE TABLE Wetter (\n",
      "    wetterid INTEGER PRIMARY KEY,\n",
      "    country TEXT,\n",
      "    city TEXT NOT NULL,\n",
      "    timestampUNX INTEGER NOT NULL,\n",
      "    sunrise INTEGER,\n",
      "    sunset INTEGER,\n",
      "    descrid INTEGER,\n",
      "    temperature REAL,\n",
      "    temperaturemin REAL,\n",
      "    temperaturemax REAL,\n",
      "    temperaturegefuehlt REAL,\n",
      "    humidity INTEGER,\n",
      "    pressure INTEGER,\n",
      "    windspeed REAL,\n",
      "    winddeg INTEGER,\n",
      "    windgust REAL,\n",
      "    cloudiness INTEGER,\n",
      "    rain1h REAL,\n",
      "    snow1h REAL,\n",
      "    snow3h REAL,\n",
      "    timezone INTEGER,\n",
      "    ctyid INTEGER,\n",
      "    FOREIGN KEY (ctyid) REFERENCES Cities (ctyid) ON DELETE CASCADE,\n",
      "    FOREIGN KEY (descrid) REFERENCES conditioncode (condid) ON DELETE SET NULL\n",
      ")\n",
      "\n",
      "CREATE TABLE Cities (\n",
      "    ctyid INTEGER PRIMARY KEY,\n",
      "    cityname TEXT NOT NULL,\n",
      "    lat REAL NOT NULL,\n",
      "    lon REAL NOT NULL,\n",
      "    zeigeinvisu TEXT NOT NULL,\n",
      "    firstadded INTEGER,\n",
      "    request TEXT,\n",
      "    active INTEGER NOT NULL,\n",
      "    countrylinkage INTEGER,\n",
      "    FOREIGN KEY (countrylinkage) REFERENCES Laendercodes (id) ON DELETE SET NULL\n",
      ")\n",
      "\n",
      "CREATE TABLE WetterActual (\n",
      "    country TEXT, \n",
      "    city TEXT, \n",
      "    descrid INTEGER, \n",
      "    temperature REAL,\n",
      "    temperaturegefuehlt REAL, \n",
      "    humidity INTEGER, \n",
      "    winddirection INTEGER, \n",
      "    windspeed INTEGER, \n",
      "    timestmp TEXT, \n",
      "    timezone INT, \n",
      "    sunrise TEXT, \n",
      "    sunset TEXT,\n",
      "    ctyid INTEGER,\n",
      "    FOREIGN KEY (ctyid) REFERENCES Cities (ctyid) ON DELETE CASCADE\n",
      ")\n",
      "\n"
     ]
    },
    {
     "data": {
      "text/plain": [
       "[None, None, None, None, None, None, None, None]"
      ]
     },
     "execution_count": 3,
     "metadata": {},
     "output_type": "execute_result"
    }
   ],
   "source": [
    "#db.showCitiesRAW()\r\n",
    "#db.execComFK(\"CREATE TABLE tt (id INTEGER PRIMARY KEY, cityname TEXT NOT NULL)\")\r\n",
    "#db.execComFK(\"drop table tt;\")\r\n",
    "db.execComFK(\"SELECT name FROM sqlite_master WHERE type ='table' AND name NOT LIKE 'sqlite_%';\")\r\n",
    "a = [print(\"{}\\n\".format(i[0])) for i in db.execComFK(\"SELECT sql FROM sqlite_master\")] #, type type, tbl_name tbl_name, name name FROM sqlite_master\")]"
   ]
  },
  {
   "cell_type": "code",
   "execution_count": null,
   "metadata": {},
   "outputs": [],
   "source": [
    "db.getCitiesDataFrame()"
   ]
  }
 ],
 "metadata": {
  "interpreter": {
   "hash": "e520943e7566dc84a3da0c1f8865936cdec72b5198b6e28951675a4c197af658"
  },
  "kernelspec": {
   "display_name": "Python 3.6.4 32-bit",
   "name": "python3"
  },
  "language_info": {
   "codemirror_mode": {
    "name": "ipython",
    "version": 3
   },
   "file_extension": ".py",
   "mimetype": "text/x-python",
   "name": "python",
   "nbconvert_exporter": "python",
   "pygments_lexer": "ipython3",
   "version": "3.6.4"
  },
  "orig_nbformat": 4
 },
 "nbformat": 4,
 "nbformat_minor": 2
}